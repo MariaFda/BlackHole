{
 "metadata": {
  "name": ""
 },
 "nbformat": 3,
 "nbformat_minor": 0,
 "worksheets": [
  {
   "cells": [
    {
     "cell_type": "code",
     "collapsed": false,
     "input": [
      "%pylab inline"
     ],
     "language": "python",
     "metadata": {},
     "outputs": [
      {
       "output_type": "stream",
       "stream": "stdout",
       "text": [
        "Populating the interactive namespace from numpy and matplotlib\n"
       ]
      }
     ],
     "prompt_number": 1
    },
    {
     "cell_type": "code",
     "collapsed": false,
     "input": [
      "RHO_U = 7.5E10 # average density of the universe at z=0.0\n",
      "CONC=10.0\n",
      "OVERDENSITY = 360\n",
      "G_GRAV = 4.38E-15 #Longitud en Mpc, masa en Msun y tiempo en Gyr.\n",
      "KM_PER_SEC_TO_MPC_PER_GYR = 0.00105 # converts km/s into Mpc/Gyr \n",
      "OMEGA_BARYONS = 0.05\n",
      "OMEGA_DM = 0.27\n",
      "HUBBLE = 0.70\n",
      "\n",
      "def func_virial_temperature(mhalo=1.0,z=6.0, mu=0.6):\n",
      "    \"\"\"\n",
      "    Input \n",
      "        mhalo: halo mass in units of Msun\n",
      "        z: redshift\n",
      "    Output\n",
      "        t_vir: virial temperature in Kelvin\n",
      "    Reference: Barkana & Loeb 2001\n",
      "    \"\"\"\n",
      "    t_vir = 370.0 * (1+z) * (mu/0.6)*(mhalo/1E7)**(2.0/3.0)\n",
      "    t_vir = t_vir * (OMEGA_DM*HUBBLE**2/0.14)**(1.0/6.0)\n",
      "    return t_vir\n",
      "\n",
      "def func_rhalo(mhalo=1.0):\n",
      "    \"\"\"\n",
      "    Input: \n",
      "        mhalo: Virial mass in units of Msun\n",
      "    Output: \n",
      "        The virial radius in units of Mpc\n",
      "    \"\"\"\n",
      "    part_a= mhalo/(OVERDENSITY * RHO_U * (4.0/3.0)*pi)\n",
      "    return part_a**(1.0/3.0)\n",
      "\n",
      "def func_rs(rhalo=1.0,conc=1.0):\n",
      "    \"\"\"\n",
      "    Input: \n",
      "        rhalo: Virial radius in units of Mpc\n",
      "        conc: concentration\n",
      "    Output: scale radius in units of Mpc\n",
      "    \"\"\"\n",
      "    return rhalo/conc\n",
      "\n",
      "def norm_NFW(mhalo=1.0, rhalo=1.0,conc=1.0):\n",
      "    \"\"\"\n",
      "    Inputs: \n",
      "        mhalo = Halo mass in units of Msun/h\n",
      "        rhalo = Virial radius in units of Msun/h\n",
      "        conc = halo concentration.\n",
      "    Output:\n",
      "        Density that gives the normalization of the NFW profile\n",
      "        Reference: wikipedia! \n",
      "        https://en.wikipedia.org/wiki/Navarro%E2%80%93Frenk%E2%80%93White_profile\n",
      "        The units are Msun/h/(Mpc/h)**3\n",
      "    \"\"\"\n",
      "    scale_radius = func_rs(rhalo=rhalo,conc=conc)\n",
      "    part_a = mhalo/(4.0*pi*(scale_radius**3.0))\n",
      "    part_b = (log(1.0+conc) - (conc/(1.0+conc)))\n",
      "    return part_a/part_b\n",
      "    \n",
      "def func_rho_dm(radius, mhalo=1.0, conc=1.0,rdm_trunc=1E-3):\n",
      "    \"\"\"\n",
      "    Inputs:\n",
      "        radius: position from the halo's center in units of Mpc\n",
      "        mhalo: total halo mass in units of Msun\n",
      "        conc: halo concentration\n",
      "        rdm_trunc: truncation radius for a constant density core\n",
      "    Outputs:\n",
      "        Density in units of Msun/Mpc^3\n",
      "    \"\"\"\n",
      "    rhalo = func_rhalo(mhalo=mhalo)\n",
      "    norm_profile = norm_NFW(mhalo=mhalo, rhalo=rhalo, conc=conc)\n",
      "    scale_radius = func_rs(rhalo=rhalo,conc=conc)\n",
      "    if(radius>rdm_trunc):\n",
      "        x  = radius/scale_radius\n",
      "    else:\n",
      "        x = rdm_trunc/scale_radius\n",
      "    return norm_profile/(x * ((1.0+x)**2))\n",
      "\n",
      "def func_sigma_halo(mhalo=1.0):\n",
      "    \"\"\"\n",
      "        Inputs:\n",
      "            mhalo: halo mass in Msun\n",
      "        Outputs:\n",
      "            sigma_halo: velocity dispersion inside the halo in km/s\n",
      "    \"\"\"\n",
      "    rhalo = func_rhalo(mhalo=mhalo)\n",
      "    sigma_SIS = sqrt(G_GRAV*mhalo/rhalo)\n",
      "    sigma_SIS = sigma_SIS/KM_PER_SEC_TO_MPC_PER_GYR\n",
      "    return sigma_SIS\n",
      "    \n",
      "def func_trunc_radius(bh_mass=1.0,mhalo=1.0):\n",
      "    \"\"\"\n",
      "        Inputs:\n",
      "            bh_mass: black hole mass in Msun.\n",
      "            mhalo: dark matter halo mass in Msun\n",
      "        Outputs:\n",
      "            trunc_radius: truncation radius in Mpc\n",
      "    \"\"\"\n",
      "    sigma_dm = func_sigma_halo(mhalo=mhalo)\n",
      "    sigma_dm = sigma_dm * KM_PER_SEC_TO_MPC_PER_GYR\n",
      "    trunc_r = G_GRAV * bh_mass/ sigma_dm**2\n",
      "    return trunc_r\n",
      "\n",
      "def func_norm_gas(mhalo=1.0, conc=1.0):\n",
      "    \"\"\"\n",
      "    Input:\n",
      "        mhalo: Virial mass in units of Msun\n",
      "    Output:\n",
      "        Normalization of the gas profile in units of Msun/Mpc^3\n",
      "    \"\"\"\n",
      "    \n",
      "    halo_radius = func_rhalo(mhalo=mhalo)\n",
      "    total_mgas = mhalo * OMEGA_BARYONS/OMEGA_DM\n",
      "    norm_gas_profile = total_mgas / (4.0*pi*halo_radius)\n",
      "    return norm_gas_profile\n",
      "    \n",
      "def func_rho_gas(radius, rgas_trunc=1E-3, norm_rho_gas=1.0):\n",
      "    \"\"\"\n",
      "        Inputs:\n",
      "            radius: distance from the center of the galaxy in units of Mpc.\n",
      "            rgas_trunc: truncation radius to get a constant gas density core.\n",
      "            norm_rho_gas: normalization of the gas density profile in units of Msun/Mpc\n",
      "    Gas density in units of Msun/Mpc^3\n",
      "    \"\"\"\n",
      "    if (radius > rgas_trunc):\n",
      "        rho_gas = norm_rho_gas/(radius**2.0)\n",
      "    else: \n",
      "        rho_gas = norm_rho_gas/(rgas_trunc**2.0)\n",
      "\n",
      "    return rho_gas"
     ],
     "language": "python",
     "metadata": {},
     "outputs": [],
     "prompt_number": 3
    },
    {
     "cell_type": "code",
     "collapsed": false,
     "input": [
      "dm_halo_mass = 1.0E12\n",
      "bh_mass = 1.0E4\n",
      "halo_radius = func_rhalo(mhalo=dm_halo_mass)\n",
      "scale_radius = func_rs(rhalo=halo_radius,conc=CONC)\n",
      "sigma_halo = func_sigma_halo(mhalo=dm_halo_mass)\n",
      "truncation_radius = func_trunc_radius(bh_mass=bh_mass,mhalo=dm_halo_mass)\n",
      "norm_rho_gas = func_norm_gas(mhalo=dm_halo_mass)\n",
      "t_vir = func_virial_temperature(mhalo=dm_halo_mass)\n",
      "print truncation_radius\n",
      "print t_vir"
     ],
     "language": "python",
     "metadata": {},
     "outputs": [
      {
       "output_type": "stream",
       "stream": "stdout",
       "text": [
        "2.06783496966e-09\n",
        "5527622.79134\n"
       ]
      }
     ],
     "prompt_number": 12
    },
    {
     "cell_type": "code",
     "collapsed": false,
     "input": [
      "n_points = 200\n",
      "log_radius = linspace(-5.0,log10(halo_radius), n_points)\n",
      "radius = 10.0**log_radius\n",
      "dm_profile = zeros(n_points)\n",
      "gas_profile = zeros(n_points)\n",
      "for i in range(n_points):\n",
      "    dm_profile[i] = func_rho_dm(radius[i], mhalo=dm_halo_mass, conc=CONC,rdm_trunc=truncation_radius)\n",
      "    gas_profile[i] = func_rho_gas(radius[i], rgas_trunc=truncation_radius, norm_rho_gas=norm_rho_gas)"
     ],
     "language": "python",
     "metadata": {},
     "outputs": [],
     "prompt_number": 27
    },
    {
     "cell_type": "code",
     "collapsed": false,
     "input": [
      "plot(log_radius, log10(dm_profile))\n",
      "plot(log_radius, log10(gas_profile))"
     ],
     "language": "python",
     "metadata": {},
     "outputs": [
      {
       "metadata": {},
       "output_type": "pyout",
       "prompt_number": 28,
       "text": [
        "[<matplotlib.lines.Line2D at 0x10fa2a810>]"
       ]
      },
      {
       "metadata": {},
       "output_type": "display_data",
       "png": "[encoded data removed]",
       "text": [
        "<matplotlib.figure.Figure at 0x10fb4cc50>"
       ]
      }
     ],
     "prompt_number": 28
    },
    {
     "cell_type": "code",
     "collapsed": false,
     "input": [
      "log_mhalo= arange(9.0, 12.0,0.5)\n",
      "mhalo= 10.0**log_mhalo\n",
      "rhalo = func_rhalo(mhalo)\n",
      "print rhalo"
     ],
     "language": "python",
     "metadata": {},
     "outputs": [
      {
       "output_type": "stream",
       "stream": "stdout",
       "text": [
        "[ 0.02515398  0.03692099  0.05419261  0.07954387  0.11675443  0.17137207]\n"
       ]
      }
     ],
     "prompt_number": 30
    }
   ],
   "metadata": {}
  }
 ]
}