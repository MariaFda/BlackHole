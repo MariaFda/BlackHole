{
 "metadata": {
  "name": "LPM"
 },
 "nbformat": 3,
 "nbformat_minor": 0,
 "worksheets": [
  {
   "cells": [
    {
     "cell_type": "code",
     "collapsed": false,
     "input": [
      "%pylab inline"
     ],
     "language": "python",
     "metadata": {},
     "outputs": [
      {
       "output_type": "stream",
       "stream": "stdout",
       "text": [
        "\n",
        "Welcome to pylab, a matplotlib-based Python environment [backend: module://IPython.zmq.pylab.backend_inline].\n",
        "For more information, type 'help(pylab)'.\n"
       ]
      }
     ],
     "prompt_number": 4
    },
    {
     "cell_type": "code",
     "collapsed": false,
     "input": [
      "h=0.05\n",
      "n_points = int((100.0+h)/h)\n",
      "rhalo = zeros(n_points)\n",
      "rho = zeros(n_points)\n",
      "rhodm= zeros(n_points)\n",
      "r = zeros(n_points)\n"
     ],
     "language": "python",
     "metadata": {},
     "outputs": [],
     "prompt_number": 27
    },
    {
     "cell_type": "code",
     "collapsed": false,
     "input": [
      "M_Halo= 1.0E12\n",
      "RHO_U = 7.5E10\n",
      "C=5.0\n",
      "RHO_GAS=1.0E12\n",
      "RHO_DM= 10.0\n",
      "RC=50.0\n",
      "\n",
      "\n",
      "def func_rhalo(mhalo):\n",
      "    part_a= 3.0*mhalo\n",
      "    part_b= 4.0*pi*200*RHO_U\n",
      "    \n",
      "    return (part_a/part_b)**(1.0/3.0)\n",
      "\n",
      "def func_rs(rhalo):\n",
      "    return rhalo/C \n",
      "    \n",
      "def func_rhodm (r,rs):\n",
      "    part_a=r/rs\n",
      "    part_b=(1.0+ part_a)**2\n",
      "    return RHO_DM/part_a*(part_b)**2\n",
      "\n",
      "    \n",
      "def func_rho(r):\n",
      "    if r<RC:\n",
      "        rho=10**5\n",
      "    else: rho=RHO_GAS/r**2\n",
      "    return rho"
     ],
     "language": "python",
     "metadata": {},
     "outputs": [],
     "prompt_number": 28
    },
    {
     "cell_type": "code",
     "collapsed": false,
     "input": [
      "log_mhalo= arange(9.0, 12.0,0.5)\n",
      "mhalo= 10.0**log_mhalo\n",
      "rhalo = func_rhalo(mhalo)"
     ],
     "language": "python",
     "metadata": {},
     "outputs": [],
     "prompt_number": 29
    },
    {
     "cell_type": "code",
     "collapsed": false,
     "input": [
      "print rhalo"
     ],
     "language": "python",
     "metadata": {},
     "outputs": [
      {
       "output_type": "stream",
       "stream": "stdout",
       "text": [
        "[ 0.02515398  0.03692099  0.05419261  0.07954387  0.11675443  0.17137207]\n"
       ]
      }
     ],
     "prompt_number": 30
    },
    {
     "cell_type": "code",
     "collapsed": false,
     "input": [
      "\n"
     ],
     "language": "python",
     "metadata": {},
     "outputs": [],
     "prompt_number": 47
    },
    {
     "cell_type": "code",
     "collapsed": false,
     "input": [
      "def func_rs(rhalo):\n",
      "    return rhalo/C "
     ],
     "language": "python",
     "metadata": {},
     "outputs": [],
     "prompt_number": 48
    },
    {
     "cell_type": "code",
     "collapsed": false,
     "input": [
      "print rhalo/C"
     ],
     "language": "python",
     "metadata": {},
     "outputs": [
      {
       "output_type": "stream",
       "stream": "stdout",
       "text": [
        "[ 0.0050308   0.0073842   0.01083852  0.01590877  0.02335089  0.03427441]\n"
       ]
      }
     ],
     "prompt_number": 49
    },
    {
     "cell_type": "code",
     "collapsed": false,
     "input": [
      "\n"
     ],
     "language": "python",
     "metadata": {},
     "outputs": [],
     "prompt_number": 51
    },
    {
     "cell_type": "code",
     "collapsed": false,
     "input": [],
     "language": "python",
     "metadata": {},
     "outputs": [],
     "prompt_number": 51
    },
    {
     "cell_type": "code",
     "collapsed": false,
     "input": [],
     "language": "python",
     "metadata": {},
     "outputs": [],
     "prompt_number": 44
    },
    {
     "cell_type": "code",
     "collapsed": false,
     "input": [],
     "language": "python",
     "metadata": {},
     "outputs": []
    }
   ],
   "metadata": {}
  }
 ]
}