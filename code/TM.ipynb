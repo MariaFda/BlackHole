{
 "metadata": {
  "name": ""
 },
 "nbformat": 3,
 "nbformat_minor": 0,
 "worksheets": [
  {
   "cells": [
    {
     "cell_type": "code",
     "collapsed": false,
     "input": [
      "%pylab inline\n",
      "\n",
      "from scipy.special import erf"
     ],
     "language": "python",
     "metadata": {},
     "outputs": [
      {
       "output_type": "stream",
       "stream": "stdout",
       "text": [
        "Populating the interactive namespace from numpy and matplotlib\n"
       ]
      }
     ],
     "prompt_number": 1
    },
    {
     "cell_type": "code",
     "collapsed": false,
     "input": [
      "h=0.0001\n",
      "n_points = int((1.0+h)/h)\n",
      "t = zeros(n_points)\n",
      "r = zeros(n_points)\n",
      "v = zeros(n_points)\n",
      "m = zeros(n_points)\n",
      "m_dot = zeros(n_points)"
     ],
     "language": "python",
     "metadata": {},
     "outputs": [],
     "prompt_number": 2
    },
    {
     "cell_type": "code",
     "collapsed": false,
     "input": [
      "t[0] = 0 \n",
      "r[0] = 0.0\n",
      "v[0] = 20.0\n",
      "m[0] = 1.0E6\n",
      "m_dot[0] = 0.0"
     ],
     "language": "python",
     "metadata": {},
     "outputs": [],
     "prompt_number": 15
    },
    {
     "cell_type": "code",
     "collapsed": false,
     "input": [
      "g_GRAV = 4.5E-7 # Longitud en Kpc, masa en Msun y timepo en Gyr.\n",
      "G_GRAV = 4.38E-15 #Longitud en Mpc, masa en Msun y tiempo en Gyr.\n",
      "LOG_LAMBDA = 10.0\n",
      "EPSILON = 0.1\n",
      "T_EDD = 44.0E-3 #Eddington time in Gyr\n",
      "RHO_U = 7.5E10 # average density of the universe at z=0.0\n",
      "CONC=10.0\n",
      "OVERDENSITY = 180\n",
      "KM_PER_SEC_TO_MPC_PER_GYR = 0.00105 # converts km/s into Mpc/Gyr \n",
      "OMEGA_BARYONS = 0.05\n",
      "OMEGA_DM = 0.27\n",
      "HUBBLE = 0.70\n",
      "mp = 1E-57\n",
      "kb = 1E-61\n",
      "dm_halo_mass = 5E11\n"
     ],
     "language": "python",
     "metadata": {},
     "outputs": [],
     "prompt_number": 16
    },
    {
     "cell_type": "code",
     "collapsed": false,
     "input": [
      "def func_virial_temperature(mhalo=1.0,z=0.0, mu=0.6):\n",
      "    \"\"\"\n",
      "    Input \n",
      "        mhalo: halo mass in units of Msun\n",
      "        z: redshift\n",
      "    Output\n",
      "        t_vir: virial temperature in Kelvin\n",
      "    Reference: Barkana & Loeb 2001\n",
      "    \"\"\"\n",
      "    t_vir = 370.0 * (1+z) * (mu/0.6)*(mhalo/1E7)**(2.0/3.0)\n",
      "    t_vir = t_vir * (OMEGA_DM*HUBBLE**2/0.14)**(1.0/6.0)\n",
      "    return t_vir\n",
      "\n",
      "def func_sound_speed (viral_temperature): \n",
      "    \"\"\"\n",
      "    Input\n",
      "        kb: Boltzman Constant kpc, Msun, Gya, K\n",
      "        mp: masa del proton en Msun.\n",
      "    Output\n",
      "        sound_speed: velocidad del sonido en Kpc y Gya \n",
      "    \"\"\"\n",
      "    part_a = (kb*viral_temperature)/mp\n",
      "    return sqrt(part_a)\n",
      "\n",
      "\n",
      "def func_rhalo(mhalo=1.0):\n",
      "    \"\"\"\n",
      "    Input: \n",
      "        mhalo: Virial mass in units of Msun\n",
      "    Output: \n",
      "        The virial radius in units of kpc\n",
      "    \"\"\"\n",
      "    part_a= mhalo/(OVERDENSITY * RHO_U * (4.0/3.0)*pi)\n",
      "    part_b = (part_a**(1.0/3.0))\n",
      "\n",
      "    return part_b*1000.0\n",
      "\n",
      "def func_rs(rhalo=1.0,conc=1.0):\n",
      "    \"\"\"\n",
      "    Input: \n",
      "        rhalo: Virial radius in units of kpc\n",
      "        conc: concentration\n",
      "    Output: scale radius in units of kpc\n",
      "    \"\"\"\n",
      "    part_a= rhalo/conc\n",
      "    return part_a\n",
      "\n",
      "def norm_NFW(mhalo=1.0, rhalo=1.0,conc=1.0):\n",
      "    \"\"\"\n",
      "    Inputs: \n",
      "        mhalo = Halo mass in units of Msun\n",
      "        rhalo = Virial radius in units of kpc\n",
      "        conc = halo concentration.\n",
      "    Output:\n",
      "        Density that gives the normalization of the NFW profile\n",
      "        Reference: wikipedia! \n",
      "        https://en.wikipedia.org/wiki/Navarro%E2%80%93Frenk%E2%80%93White_profile\n",
      "        The units are Msun/(kpc**3)\n",
      "    \"\"\"\n",
      "    scale_radius = func_rs(rhalo=rhalo,conc=conc)\n",
      "    part_a = mhalo/(4.0*pi*(scale_radius**3.0))\n",
      "    part_b = (log(1.0+conc) - (conc/(1.0+conc)))\n",
      "    return part_a/part_b\n",
      "\n",
      "\n",
      "\n",
      "def func_rho_dm(radius, mhalo=1.0, conc=1.0,rdm_trunc=1E-3):\n",
      "    \"\"\"\n",
      "    Inputs:\n",
      "        radius: position from the halo's center in units of Mpc\n",
      "        mhalo: total halo mass in units of Msun\n",
      "        conc: halo concentration\n",
      "        rdm_trunc: truncation radius for a constant density core\n",
      "    Outputs:\n",
      "        Density in units of Msun/Mpc^3\n",
      "    \"\"\"\n",
      "    rhalo = func_rhalo(mhalo=mhalo)\n",
      "    norm_profile = norm_NFW(mhalo=mhalo, rhalo=rhalo, conc=conc)\n",
      "    scale_radius = func_rs(rhalo=rhalo,conc=conc)\n",
      "    if(radius>rdm_trunc):\n",
      "        x  = radius/scale_radius\n",
      "    else:\n",
      "        x = rdm_trunc/scale_radius\n",
      "    return norm_profile/(x * ((1.0+x)**2))\n",
      "\n",
      "def func_sigma_halo(mhalo=1.0):\n",
      "    \"\"\"\n",
      "        Inputs:\n",
      "            mhalo: halo mass in Msun\n",
      "        Outputs:\n",
      "            sigma_halo: velocity dispersion inside the halo in km/s\n",
      "    \"\"\"\n",
      "    rhalo = func_rhalo(mhalo=mhalo)/1000.0\n",
      "    sigma_SIS = sqrt(G_GRAV*mhalo/rhalo)\n",
      "    sigma_SIS = sigma_SIS/KM_PER_SEC_TO_MPC_PER_GYR\n",
      "    return sigma_SIS\n",
      "    \n",
      "def func_trunc_radius(bh_mass=1.0,mhalo=1.0):\n",
      "    \"\"\"\n",
      "        Inputs:\n",
      "            bh_mass: black hole mass in Msun.\n",
      "            mhalo: dark matter halo mass in Msun\n",
      "        Outputs:\n",
      "            trunc_radius: truncation radius in kpc\n",
      "    \"\"\"\n",
      "    sigma_dm = func_sigma_halo(mhalo=mhalo)\n",
      "    sigma_dm = sigma_dm * KM_PER_SEC_TO_MPC_PER_GYR\n",
      "    trunc_r = G_GRAV * bh_mass/ sigma_dm**2\n",
      "    return trunc_r*1000\n",
      "\n",
      "def func_norm_gas(mhalo=1.0, conc=1.0):\n",
      "    \"\"\"\n",
      "    Input:\n",
      "        mhalo: Virial mass in units of Msun\n",
      "    Output:\n",
      "        Normalization of the gas profile in units of Msun/Mpc^3\n",
      "    \"\"\"\n",
      "    \n",
      "    halo_radius = func_rhalo(mhalo=mhalo)\n",
      "    total_mgas = mhalo * OMEGA_BARYONS/OMEGA_DM\n",
      "    norm_gas_profile = total_mgas / (4.0*pi*halo_radius)\n",
      "    return norm_gas_profile\n",
      "    \n",
      "def func_rho_gas(radius, rgas_trunc=1E-3, mhalo=1.0, conc=1.0):\n",
      "    \"\"\"\n",
      "        Inputs:\n",
      "            radius: distance from the center of the galaxy in units of Mpc.\n",
      "            rgas_trunc: truncation radius to get a constant gas density core.\n",
      "            norm_rho_gas: normalization of the gas density profile in units of Msun/Mpc\n",
      "    Gas density in units of Msun/kpc^3\n",
      "    \"\"\"\n",
      "    norm_rho_gas = func_norm_gas(mhalo=mhalo, conc=conc)\n",
      "    if (radius > rgas_trunc):\n",
      "        rho_gas = norm_rho_gas/(radius**2.0)\n",
      "    else: \n",
      "        rho_gas = norm_rho_gas/(rgas_trunc**2.0)\n",
      "\n",
      "    return rho_gas\n",
      "\n",
      "\n",
      "def func_dm_mass(radius, mhalo=1.0, rhalo=1.0, conc=1.0):\n",
      "    norm_profile = norm_NFW(mhalo=mhalo, rhalo=rhalo,conc=conc)\n",
      "    scale_radius = func_rs(rhalo=rhalo,conc=conc)\n",
      "    part_a = 4.0*pi*(scale_radius**3.0)*norm_profile\n",
      "    part_b = log((radius+scale_radius)/scale_radius) - (radius/(radius+scale_radius))\n",
      "    return part_a * part_b\n",
      "\n",
      "def func_gas_mass(radius, mhalo=1.0, conc=1.0):\n",
      "    norm_rho_gas = func_norm_gas(mhalo=mhalo, conc=conc)\n",
      "    part_a = norm_rho_gas * radius\n",
      "    return part_a\n",
      "\n",
      "def func_r_prime(t, r, v):\n",
      "    return v\n",
      "\n",
      "def func_m_prime(t,r,v,m_bh,rho_gas, sound_speed):\n",
      "    \n",
      "    part_a = 4.0*pi*rho_gas*g_GRAV**2*(m_bh**2)\n",
      "    part_b = (sound_speed**2 + v**2)**(3.0/2.0)\n",
      "    eddington_rate = (m_bh/T_EDD)*(1.0-EPSILON)/EPSILON\n",
      "    if part_a/part_b > eddington_rate:\n",
      "        acc_rate = eddington_rate\n",
      "    else:\n",
      "        acc_rate = part_a/part_b\n",
      "#    print \"%e %e\"%(eddington_rate, acc_rate)\n",
      "#    print \"speed\", sound_speed, v, part_a, part_b\n",
      " #   print \"PARTS\", part_a, part_b, acc_rate, part_a/part_b\n",
      "    return acc_rate\n",
      "    \n",
      "\n",
      "def func_v_prime(t, r, v, m_bh, m_dot, gas_mass, dm_mass, rho_dm, rho_gas, sigma):\n",
      "    if(abs(r)>0.0):\n",
      "        part_a =  g_GRAV*dm_mass/(r**2) * r/abs(r)\n",
      "\n",
      "        part_b = 4.0*pi* (g_GRAV**2) * LOG_LAMBDA * (rho_dm + rho_gas) * m_bh / v**2\n",
      "        ratio = abs(v/(sqrt(2.0) * sigma))\n",
      "        part_c = erf(ratio) - 2.0*ratio*exp(-(ratio**2))/sqrt(pi)\n",
      "\n",
      "        part_d = (abs(v)/m_bh)*m_dot\n",
      " \n",
      "        final_v_prime = -part_a - (part_b * part_c * v/abs(v))#-part_d\n",
      "    else:\n",
      "        final_v_prime = 0.0\n",
      " \n",
      "\n",
      "    return  final_v_prime"
     ],
     "language": "python",
     "metadata": {},
     "outputs": [],
     "prompt_number": 17
    },
    {
     "cell_type": "code",
     "collapsed": false,
     "input": [
      "t_vir = func_virial_temperature(mhalo=dm_halo_mass)\n",
      "sigma = func_sigma_halo(mhalo=dm_halo_mass)\n",
      "print \"sigma\", sigma\n",
      "sound_speed = func_sound_speed(t_vir)\n",
      "trunc_radius = func_trunc_radius(bh_mass=m[0],mhalo=dm_halo_mass)\n",
      "rho_dm = func_rho_dm(abs(r[0]), mhalo=dm_halo_mass, rdm_trunc=trunc_radius)\n",
      "rho_gas = func_rho_gas(abs(r[0]), rgas_trunc=trunc_radius, mhalo=dm_halo_mass, conc=CONC)    \n",
      "m_dot[0] = func_m_prime(t[0],r[0], v[0], m[0], rho_gas, sound_speed)\n",
      "\n",
      "for i in range(1,n_points):\n",
      "    \n",
      "    #get the first derivatives\n",
      "    t_vir = func_virial_temperature(mhalo=dm_halo_mass)\n",
      "    sigma = func_sigma_halo(mhalo=dm_halo_mass)\n",
      "    r_halo = func_rhalo(mhalo=dm_halo_mass)\n",
      "#    print \"sigma\", sigma, r[i-1]\n",
      "    sound_speed = func_sound_speed(t_vir)\n",
      "    \n",
      "    trunc_radius = func_trunc_radius(bh_mass=m[i-1],mhalo=dm_halo_mass)\n",
      "    rho_dm = func_rho_dm(abs(r[i-1]), mhalo=dm_halo_mass, rdm_trunc=trunc_radius)\n",
      "    rho_gas = func_rho_gas(abs(r[i-1]), rgas_trunc=trunc_radius, mhalo=dm_halo_mass, conc=CONC)\n",
      "    mass_dm = func_dm_mass(abs(r[i-1]), mhalo=dm_halo_mass, rhalo=r_halo, conc=CONC)\n",
      "    mass_gas = func_gas_mass(abs(r[i-1]), mhalo=dm_halo_mass, conc=CONC)\n",
      "\n",
      "    \n",
      "    r_prime = func_r_prime(t[i-1],r[i-1], v[i-1])\n",
      "    m_prime = func_m_prime(t[i-1],r[i-1], v[i-1], m[i-1], rho_gas, sound_speed)\n",
      "    v_prime = func_v_prime(t[i-1],r[i-1], v[i-1], m[i-1], m_prime, mass_gas, mass_dm, rho_dm, rho_gas, sigma)\n",
      "    \n",
      "    #from this estimation move to the middle point\n",
      "    t_middle = t[i-1] + (h/2.0)\n",
      "    r_middle = r[i-1] + (h/2.0) * r_prime\n",
      "    v_middle = v[i-1] + (h/2.0) * v_prime \n",
      "    m_middle = m[i-1] + (h/2.0) * m_prime \n",
      "     \n",
      "    #compute the derivatives at the middle point\n",
      "    trunc_radius = func_trunc_radius(bh_mass=m[i-1],mhalo=dm_halo_mass)\n",
      "    rho_dm_middle = func_rho_dm(abs(r_middle), mhalo=dm_halo_mass, rdm_trunc=trunc_radius)\n",
      "    rho_gas_middle = func_rho_gas(abs(r_middle), rgas_trunc=trunc_radius, mhalo=dm_halo_mass, conc=CONC)\n",
      "    mass_dm_middle = func_dm_mass(abs(r_middle), mhalo=dm_halo_mass, rhalo=r_halo, conc=CONC)\n",
      "    mass_gas_middle = func_gas_mass(abs(r_middle), mhalo=dm_halo_mass, conc=CONC)\n",
      "    \n",
      "    r_middle_prime = func_r_prime(t_middle, r_middle, v_middle)\n",
      "    m_middle_prime = func_m_prime(t_middle, r_middle, v_middle, m_middle, rho_gas_middle, sound_speed)\n",
      "    v_middle_prime = func_v_prime(t_middle, r_middle, v_middle, m_middle, m_middle_prime, mass_gas_middle, mass_dm_middle,\\\n",
      "                                  rho_dm_middle, rho_gas_middle, sigma)\n",
      "    \n",
      "    \n",
      "    t[i] = t[i-1] + h\n",
      "    r[i] = r[i-1] + h * r_middle_prime \n",
      "    v[i] = v[i-1] + h * v_middle_prime\n",
      "    m[i] = m[i-1] + h * m_middle_prime\n",
      "    m_dot[i] = m_middle_prime\n",
      "    #print \"accretion\", m_middle_prime, v_prime, v_middle_prime, r[i]\n",
      "    "
     ],
     "language": "python",
     "metadata": {},
     "outputs": [
      {
       "output_type": "stream",
       "stream": "stdout",
       "text": [
        "sigma 98.011000067\n"
       ]
      }
     ],
     "prompt_number": 18
    },
    {
     "cell_type": "code",
     "collapsed": false,
     "input": [
      "#plot(t,abs(m))\n",
      "plot(t, abs(v))"
     ],
     "language": "python",
     "metadata": {},
     "outputs": [
      {
       "metadata": {},
       "output_type": "pyout",
       "prompt_number": 19,
       "text": [
        "[<matplotlib.lines.Line2D at 0x1103fccd0>]"
       ]
      },
      {
       "metadata": {},
       "output_type": "display_data",
       "png": "[encoded data removed]",
       "text": [
        "<matplotlib.figure.Figure at 0x110256650>"
       ]
      }
     ],
     "prompt_number": 19
    },
    {
     "cell_type": "code",
     "collapsed": false,
     "input": [
      "plot(t, log10(m))"
     ],
     "language": "python",
     "metadata": {},
     "outputs": [
      {
       "metadata": {},
       "output_type": "pyout",
       "prompt_number": 20,
       "text": [
        "[<matplotlib.lines.Line2D at 0x1104a46d0>]"
       ]
      },
      {
       "metadata": {},
       "output_type": "display_data",
       "png": "[encoded data removed]",
       "text": [
        "<matplotlib.figure.Figure at 0x110245d50>"
       ]
      }
     ],
     "prompt_number": 20
    },
    {
     "cell_type": "code",
     "collapsed": false,
     "input": [
      "plot(t, abs(r))"
     ],
     "language": "python",
     "metadata": {},
     "outputs": [
      {
       "metadata": {},
       "output_type": "pyout",
       "prompt_number": 21,
       "text": [
        "[<matplotlib.lines.Line2D at 0x1105e3090>]"
       ]
      },
      {
       "metadata": {},
       "output_type": "display_data",
       "png": "[encoded data removed]",
       "text": [
        "<matplotlib.figure.Figure at 0x110250550>"
       ]
      }
     ],
     "prompt_number": 21
    },
    {
     "cell_type": "code",
     "collapsed": false,
     "input": [],
     "language": "python",
     "metadata": {},
     "outputs": []
    }
   ],
   "metadata": {}
  }
 ]
}